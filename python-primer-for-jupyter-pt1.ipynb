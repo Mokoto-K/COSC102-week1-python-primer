{
 "cells": [
  {
   "cell_type": "markdown",
   "id": "71768c31-bb32-469d-a99f-558d6234f029",
   "metadata": {},
   "source": [
    "# Topic 3: Starting out with python 1"
   ]
  },
  {
   "cell_type": "markdown",
   "id": "788af78b-58b7-427d-b0e1-166cc8026345",
   "metadata": {},
   "source": [
    "What is a variable?\n",
    "- A variable is the name of a value\n",
    "- Can include numbers, underscores and letters\n",
    "- Should relate to the meaning of the value\n",
    "  - e.g. assignment_grade = 78 is better than a_g = 78\n",
    "- You can't start a variable name with a number\n",
    "- Variables are case sensitive e.g Student = \"Mary is different to student = \"Mary\""
   ]
  },
  {
   "cell_type": "code",
   "execution_count": 3,
   "id": "613f8417-a284-4132-9dc5-c90bad6ba5bb",
   "metadata": {},
   "outputs": [],
   "source": [
    "assignment1_grade = 35"
   ]
  },
  {
   "cell_type": "code",
   "execution_count": 3,
   "id": "e551eae0-f209-4d1e-9605-88a1e7919093",
   "metadata": {},
   "outputs": [
    {
     "name": "stdout",
     "output_type": "stream",
     "text": [
      "35\n"
     ]
    }
   ],
   "source": [
    "print(assignment1_grade)"
   ]
  },
  {
   "cell_type": "code",
   "execution_count": 5,
   "id": "9686c5cd-ceb2-46f8-b1f2-9139b91d89a9",
   "metadata": {},
   "outputs": [],
   "source": [
    "# 0name=\"Bob won't work"
   ]
  },
  {
   "cell_type": "markdown",
   "id": "3fa9bd10-ca35-4c11-b774-ab028e99612b",
   "metadata": {},
   "source": [
    "## Python Reserved Keywords\n",
    "Python reserved keywords  cann\n",
    "ot be used as variable names. They have special meaning to the interpreter E.G"
   ]
  },
  {
   "cell_type": "code",
   "execution_count": 8,
   "id": "0afbab32-de0d-4c57-8b60-3ecec789d5f9",
   "metadata": {},
   "outputs": [],
   "source": [
    "# wont work - break=7"
   ]
  },
  {
   "cell_type": "markdown",
   "id": "1a5c483e-e8bc-4754-bc4e-51a92f250b77",
   "metadata": {},
   "source": [
    "## Int: integer Numbers (no decimal places)\n",
    " - e.g 5, 800, 0\n",
    " - Useful for representing categorircal data"
   ]
  },
  {
   "cell_type": "raw",
   "id": "a3ee5efd-aecc-47da-835a-f924de72a97a",
   "metadata": {},
   "source": [
    "# int\n",
    "number_of_students = 120"
   ]
  },
  {
   "cell_type": "markdown",
   "id": "2b6babd5-7740-4312-b544-94e2c94f4da8",
   "metadata": {},
   "source": [
    "## float: Floating point numbers (decimal places)\n",
    "  - 5.0, 89.4, 100.95\n",
    "  - Useful for representing continous data"
   ]
  },
  {
   "cell_type": "code",
   "execution_count": 11,
   "id": "494bdc06-c43b-49d6-9f10-531229a02ef4",
   "metadata": {},
   "outputs": [],
   "source": [
    "# float\n",
    "average_student_grade = 78.5"
   ]
  },
  {
   "cell_type": "markdown",
   "id": "16b13e78-6686-49ec-a653-802a9a1bb4b3",
   "metadata": {},
   "source": [
    "## String: Strings\n",
    "  - \"Bob\", \"He took the knife\", \"butter chicken\"\n",
    "  - Useful for reprensenting words, sentences or letters"
   ]
  },
  {
   "cell_type": "code",
   "execution_count": 13,
   "id": "24f0d934-0913-429d-9179-06ba03fd0edf",
   "metadata": {},
   "outputs": [],
   "source": [
    "#string\n",
    "student_name = \"Bob puneet\""
   ]
  },
  {
   "cell_type": "markdown",
   "id": "0e1e242d-2a18-4a77-9f43-eea1b0911dca",
   "metadata": {},
   "source": [
    "## bool: Boolean\n",
    "  - True or false\n",
    "  - Useful for conditional variables, where you want yes/no"
   ]
  },
  {
   "cell_type": "code",
   "execution_count": 1,
   "id": "daf83b35-67ae-4af7-a32f-eea9d67d3dee",
   "metadata": {},
   "outputs": [],
   "source": [
    "#bool\n",
    "Pass = True"
   ]
  },
  {
   "cell_type": "markdown",
   "id": "08966596-b632-48a7-b1da-7fdcbd631fd5",
   "metadata": {},
   "source": [
    "## List \n",
    "  - list: ordered collection with square brakets i.e []\n",
    "  -  You can ave lists of pretty much any datatype e.g list of int values, or bool values, or string valyes. You can even have a list of lists!\n",
    "  -  Useful for representing collenctions of data."
   ]
  },
  {
   "cell_type": "code",
   "execution_count": 5,
   "id": "67064a49-82b1-4a3c-b7d8-6f0df6c0d481",
   "metadata": {},
   "outputs": [],
   "source": [
    "list_of_students = [\"Asif Azam\", \"Sara Bentley\", \"James King\", \"Bill Jobs\", \"Steve Gates\"]"
   ]
  },
  {
   "cell_type": "code",
   "execution_count": 7,
   "id": "7bb5a127-36d3-4a04-98e4-2bbb7cfaba0e",
   "metadata": {},
   "outputs": [
    {
     "data": {
      "text/plain": [
       "'Asif Azam'"
      ]
     },
     "execution_count": 7,
     "metadata": {},
     "output_type": "execute_result"
    }
   ],
   "source": [
    "list_of_students[0]"
   ]
  },
  {
   "cell_type": "code",
   "execution_count": 6,
   "id": "96d94d2e-b70f-4e37-b948-9daacde05d08",
   "metadata": {},
   "outputs": [
    {
     "data": {
      "text/plain": [
       "'Steve Gates'"
      ]
     },
     "execution_count": 6,
     "metadata": {},
     "output_type": "execute_result"
    }
   ],
   "source": [
    "list_of_students[4]"
   ]
  },
  {
   "cell_type": "code",
   "execution_count": 8,
   "id": "4aa30e7b-c3bb-4b76-8ff5-a3e34e6dd55a",
   "metadata": {},
   "outputs": [],
   "source": [
    "list_of_students.append(\"Fi Fi Li\")"
   ]
  },
  {
   "cell_type": "markdown",
   "id": "aec97161-b4ad-4531-96e3-daba89380953",
   "metadata": {},
   "source": [
    "## Dictionaries\n",
    "  - dict: Unordered collection with curly brackets {}. where each element is in the form ley: value, and the separator is a comma (,)\n",
    "  - You can have a dictionary of pretty much any data typ/s e.g the key might be a dtring and the value an int or th le be a float, anf te valu a bool\n",
    "  - Useful for mappnig data to lavels, e.g student to grade"
   ]
  },
  {
   "cell_type": "code",
   "execution_count": 10,
   "id": "fe45c02d-334a-4bc0-985f-cc0b52646cc5",
   "metadata": {},
   "outputs": [],
   "source": [
    "student_grades = {\"Asif Azam\": 34, \"Sara Bently\": 90, \"James King\":0}"
   ]
  },
  {
   "cell_type": "code",
   "execution_count": 11,
   "id": "04b48dda-96c8-4db5-ba03-32758d5d8f96",
   "metadata": {},
   "outputs": [
    {
     "data": {
      "text/plain": [
       "{'Asif Azam': 34, 'Sara Bently': 90, 'James King': 0}"
      ]
     },
     "execution_count": 11,
     "metadata": {},
     "output_type": "execute_result"
    }
   ],
   "source": [
    "student_grades"
   ]
  },
  {
   "cell_type": "code",
   "execution_count": 14,
   "id": "719533a7-fd05-4a85-8195-244eba7b5936",
   "metadata": {},
   "outputs": [
    {
     "data": {
      "text/plain": [
       "('Asif Azam:', 34)"
      ]
     },
     "execution_count": 14,
     "metadata": {},
     "output_type": "execute_result"
    }
   ],
   "source": [
    "\"Asif Azam:\", student_grades.get(\"Asif Azam\")"
   ]
  },
  {
   "cell_type": "code",
   "execution_count": 15,
   "id": "83b5934b-4045-408d-b663-d22093485e99",
   "metadata": {},
   "outputs": [
    {
     "data": {
      "text/plain": [
       "(\"Fi Fi's grade: \", None)"
      ]
     },
     "execution_count": 15,
     "metadata": {},
     "output_type": "execute_result"
    }
   ],
   "source": [
    "\"Fi Fi's grade: \", student_grades.get(\"Fi Fi Li\")"
   ]
  },
  {
   "cell_type": "code",
   "execution_count": 17,
   "id": "03fa7f5b-ef1f-4fa5-8b48-9367f927f10e",
   "metadata": {},
   "outputs": [],
   "source": [
    "student_grades.update({\"Fi Fi Li\": 85})"
   ]
  },
  {
   "cell_type": "code",
   "execution_count": 18,
   "id": "590909bb-2925-46cc-b45c-02684aed45a2",
   "metadata": {},
   "outputs": [
    {
     "data": {
      "text/plain": [
       "(\"Fi Fi's grade: \", 85)"
      ]
     },
     "execution_count": 18,
     "metadata": {},
     "output_type": "execute_result"
    }
   ],
   "source": [
    "\"Fi Fi's grade: \", student_grades.get(\"Fi Fi Li\")"
   ]
  },
  {
   "cell_type": "markdown",
   "id": "79c970a4-0b60-49f1-9be5-5794bf695b5c",
   "metadata": {},
   "source": [
    "## Sets\n",
    " - set: unordered collection with curly brackets {}, where each element is separated by a comma. Cannot contain duplicates\n",
    " - You can have a set of pretty mcuh any data type/s e.g int vales, string valesm viivalues, etc\n",
    " - Useful when you don't need your data to be ordered and don't want any duplicates"
   ]
  },
  {
   "cell_type": "code",
   "execution_count": 19,
   "id": "0f964944-3a19-4069-86c7-fa71eb73aba4",
   "metadata": {},
   "outputs": [],
   "source": [
    "lotto_numbers={33,23,4,7}"
   ]
  },
  {
   "cell_type": "code",
   "execution_count": 20,
   "id": "7c66351c-c172-45e4-af28-1c0f084213fc",
   "metadata": {},
   "outputs": [],
   "source": [
    "lotto_numbers.add(23)"
   ]
  },
  {
   "cell_type": "code",
   "execution_count": 21,
   "id": "7042982e-145e-41c9-b8db-e08a2d062b0e",
   "metadata": {},
   "outputs": [
    {
     "data": {
      "text/plain": [
       "{4, 7, 23, 33}"
      ]
     },
     "execution_count": 21,
     "metadata": {},
     "output_type": "execute_result"
    }
   ],
   "source": [
    "lotto_numbers"
   ]
  },
  {
   "cell_type": "markdown",
   "id": "13c5cd0e-38ae-440f-8684-b103e4ac7498",
   "metadata": {},
   "source": [
    "### Check the variables data type"
   ]
  },
  {
   "cell_type": "code",
   "execution_count": 23,
   "id": "d3137f25-103f-4bc9-aad0-a7b03a352ea2",
   "metadata": {},
   "outputs": [
    {
     "data": {
      "text/plain": [
       "set"
      ]
     },
     "execution_count": 23,
     "metadata": {},
     "output_type": "execute_result"
    }
   ],
   "source": [
    "type(lotto_numbers)"
   ]
  },
  {
   "cell_type": "markdown",
   "id": "a91c808b-a145-4ca1-8132-88e38ef50c27",
   "metadata": {},
   "source": [
    "## Operators and operands\n",
    "Python recongises certain symbols as having a specific meaning e.g * means to mulipl. For full summary of operaotrs, what the y can be used for and examples, check out the presentation"
   ]
  },
  {
   "cell_type": "markdown",
   "id": "fef24c23-9bcc-4ec7-be80-f1b3d65b389c",
   "metadata": {},
   "source": [
    "## Arithmatic Operators"
   ]
  },
  {
   "cell_type": "code",
   "execution_count": 25,
   "id": "ac660664-c600-43f3-bc9a-aebfe23fb546",
   "metadata": {},
   "outputs": [],
   "source": [
    "#Bob achieved these raw percentag marks for his 2 assignments\n",
    "assignment1_grade=80\n",
    "assignment2_grade=68"
   ]
  },
  {
   "cell_type": "code",
   "execution_count": 27,
   "id": "e73eb004-c0bb-442b-8f9f-ae469ff38ef6",
   "metadata": {},
   "outputs": [],
   "source": [
    "#Bob was late for addignment 2, so a penalty was applied\n",
    "penalty = 5"
   ]
  },
  {
   "cell_type": "code",
   "execution_count": 28,
   "id": "903180d9-8bbc-4d35-b422-1c8af3e7074f",
   "metadata": {},
   "outputs": [],
   "source": [
    "#Bob's nrw mark for assignment 2 can be obtained using the - opperator\n",
    "assignment2_grade=assignment2_grade-penalty"
   ]
  },
  {
   "cell_type": "code",
   "execution_count": 29,
   "id": "b11836ec-6240-49c1-8788-7d0ab8be41a0",
   "metadata": {},
   "outputs": [
    {
     "data": {
      "text/plain": [
       "63"
      ]
     },
     "execution_count": 29,
     "metadata": {},
     "output_type": "execute_result"
    }
   ],
   "source": [
    "# Here is Bob's new grade for assignment 2\n",
    "assignment2_grade"
   ]
  },
  {
   "cell_type": "code",
   "execution_count": 30,
   "id": "2ae5fd80-3ff1-4352-b1c0-835f964dbde0",
   "metadata": {},
   "outputs": [],
   "source": [
    "# Assignment 1 nad 2 are both worth 50% of his final mark.\n",
    "moderator=50/100"
   ]
  },
  {
   "cell_type": "code",
   "execution_count": 31,
   "id": "ca6ff3ef-6a8d-4ed8-bc6f-1424a2287802",
   "metadata": {},
   "outputs": [],
   "source": [
    "# New grades for assignments\n",
    "moderated_a1 = moderator*assignment1_grade\n",
    "moderated_a2 = moderator*assignment2_grade"
   ]
  },
  {
   "cell_type": "code",
   "execution_count": 33,
   "id": "ef96ba43-f73a-4fad-b407-4d19664bf988",
   "metadata": {},
   "outputs": [
    {
     "name": "stdout",
     "output_type": "stream",
     "text": [
      "40.0\n",
      "31.5\n"
     ]
    }
   ],
   "source": [
    "print(moderated_a1)\n",
    "print(moderated_a2)"
   ]
  },
  {
   "cell_type": "code",
   "execution_count": 34,
   "id": "f00b86da-7570-446b-b04c-e47b897e37ce",
   "metadata": {},
   "outputs": [
    {
     "data": {
      "text/plain": [
       "71.5"
      ]
     },
     "execution_count": 34,
     "metadata": {},
     "output_type": "execute_result"
    }
   ],
   "source": [
    "final_grade = moderated_a1+moderated_a2\n",
    "final_grade"
   ]
  },
  {
   "cell_type": "code",
   "execution_count": 35,
   "id": "4e0ec774-0637-4e13-a525-437807a305fe",
   "metadata": {},
   "outputs": [
    {
     "data": {
      "text/plain": [
       "72"
      ]
     },
     "execution_count": 35,
     "metadata": {},
     "output_type": "execute_result"
    }
   ],
   "source": [
    "# a useful math function\n",
    "rounded_grade=round(final_grade)\n",
    "rounded_grade"
   ]
  },
  {
   "cell_type": "code",
   "execution_count": 36,
   "id": "a3f18181-3e99-47dd-9221-3b0319a62912",
   "metadata": {},
   "outputs": [
    {
     "data": {
      "text/plain": [
       "1"
      ]
     },
     "execution_count": 36,
     "metadata": {},
     "output_type": "execute_result"
    }
   ],
   "source": [
    "3%2"
   ]
  },
  {
   "cell_type": "code",
   "execution_count": 37,
   "id": "78c36581-20c7-48e5-a103-53f8e4ad27bf",
   "metadata": {},
   "outputs": [
    {
     "data": {
      "text/plain": [
       "27"
      ]
     },
     "execution_count": 37,
     "metadata": {},
     "output_type": "execute_result"
    }
   ],
   "source": [
    "3**3"
   ]
  },
  {
   "cell_type": "markdown",
   "id": "33a67020-6a3e-418c-b875-718563fe8f4e",
   "metadata": {},
   "source": [
    "## Comparison Operators"
   ]
  },
  {
   "cell_type": "code",
   "execution_count": 39,
   "id": "c2cd786b-ca55-43c2-9812-efc8ba0e1b18",
   "metadata": {},
   "outputs": [],
   "source": [
    "Fail=final_grade<50\n",
    "Pass=final_grade<65 and final_grade >=50\n",
    "Credit=final_grade<75 and final_grade>=65"
   ]
  },
  {
   "cell_type": "code",
   "execution_count": 40,
   "id": "40e5dafe-eba7-4a28-be0d-f49317902eee",
   "metadata": {},
   "outputs": [
    {
     "name": "stdout",
     "output_type": "stream",
     "text": [
      "Fail:  False\n",
      "Pass:  False\n",
      "Credit:  True\n"
     ]
    }
   ],
   "source": [
    "print(\"Fail: \", Fail)\n",
    "print(\"Pass: \", Pass)\n",
    "print(\"Credit: \", Credit)"
   ]
  },
  {
   "cell_type": "code",
   "execution_count": 41,
   "id": "bb09da11-c853-44a3-939b-0fbeb3a166b5",
   "metadata": {},
   "outputs": [
    {
     "name": "stdout",
     "output_type": "stream",
     "text": [
      "Bob achieved full marks:  False\n"
     ]
    }
   ],
   "source": [
    "full_marks=final_grade==100\n",
    "print(\"Bob achieved full marks: \", full_marks)"
   ]
  },
  {
   "cell_type": "code",
   "execution_count": 42,
   "id": "93d3d2d2-436a-404c-86ef-d7fcbcf507d0",
   "metadata": {},
   "outputs": [
    {
     "name": "stdout",
     "output_type": "stream",
     "text": [
      "Bob did not achieve full marks:  True\n"
     ]
    }
   ],
   "source": [
    "not_full_marks=final_grade!=100\n",
    "print(\"Bob did not achieve full marks: \", not_full_marks)"
   ]
  },
  {
   "cell_type": "markdown",
   "id": "8bfef25a-f4d4-4c46-b4d3-2d28094d9f68",
   "metadata": {},
   "source": [
    "## Logical Operators"
   ]
  },
  {
   "cell_type": "code",
   "execution_count": 44,
   "id": "7ee9c619-67cc-46d6-9072-29054628eafa",
   "metadata": {},
   "outputs": [
    {
     "data": {
      "text/plain": [
       "True"
      ]
     },
     "execution_count": 44,
     "metadata": {},
     "output_type": "execute_result"
    }
   ],
   "source": [
    "# \"not\" complements the perand. It shows the oppsite of the operand\n",
    "Pass = False\n",
    "not Pass"
   ]
  },
  {
   "cell_type": "code",
   "execution_count": 45,
   "id": "6d2b70bc-0c42-4876-88d0-22857cb79db4",
   "metadata": {},
   "outputs": [],
   "source": [
    "list_grades = [12,57,88]"
   ]
  },
  {
   "cell_type": "code",
   "execution_count": 46,
   "id": "4bc680a4-7c48-4a02-99bf-4226c6d1901c",
   "metadata": {},
   "outputs": [
    {
     "data": {
      "text/plain": [
       "True"
      ]
     },
     "execution_count": 46,
     "metadata": {},
     "output_type": "execute_result"
    }
   ],
   "source": [
    "12 in list_grades"
   ]
  },
  {
   "cell_type": "code",
   "execution_count": 47,
   "id": "fe539eac-dfa6-476a-a49d-dd6c538b37b7",
   "metadata": {},
   "outputs": [
    {
     "data": {
      "text/plain": [
       "False"
      ]
     },
     "execution_count": 47,
     "metadata": {},
     "output_type": "execute_result"
    }
   ],
   "source": [
    "12 not in list_grades"
   ]
  },
  {
   "cell_type": "code",
   "execution_count": 48,
   "id": "affaa39d-ae24-4bfc-b353-8f99643505dc",
   "metadata": {},
   "outputs": [
    {
     "data": {
      "text/plain": [
       "True"
      ]
     },
     "execution_count": 48,
     "metadata": {},
     "output_type": "execute_result"
    }
   ],
   "source": [
    "12 and 57 in list_grades"
   ]
  },
  {
   "cell_type": "code",
   "execution_count": 49,
   "id": "d65b4a29-41a2-4e35-8ec3-3348cf4cc110",
   "metadata": {},
   "outputs": [
    {
     "data": {
      "text/plain": [
       "False"
      ]
     },
     "execution_count": 49,
     "metadata": {},
     "output_type": "execute_result"
    }
   ],
   "source": [
    "12 and 70 in list_grades"
   ]
  },
  {
   "cell_type": "code",
   "execution_count": 50,
   "id": "2c5a7417-446c-4581-8dd4-cc6edf1e7c37",
   "metadata": {},
   "outputs": [
    {
     "data": {
      "text/plain": [
       "12"
      ]
     },
     "execution_count": 50,
     "metadata": {},
     "output_type": "execute_result"
    }
   ],
   "source": [
    "12 or 70 in list_grades"
   ]
  },
  {
   "cell_type": "code",
   "execution_count": 51,
   "id": "981c8e82-18de-4622-8a6f-32d9f419417b",
   "metadata": {},
   "outputs": [
    {
     "name": "stderr",
     "output_type": "stream",
     "text": [
      "<>:1: SyntaxWarning: \"is\" with a literal. Did you mean \"==\"?\n",
      "<>:1: SyntaxWarning: \"is\" with a literal. Did you mean \"==\"?\n",
      "C:\\Users\\Hahn\\AppData\\Local\\Temp\\ipykernel_29632\\2973185423.py:1: SyntaxWarning: \"is\" with a literal. Did you mean \"==\"?\n",
      "  50 is max(list_grades)\n"
     ]
    },
    {
     "data": {
      "text/plain": [
       "False"
      ]
     },
     "execution_count": 51,
     "metadata": {},
     "output_type": "execute_result"
    }
   ],
   "source": [
    "50 is max(list_grades)"
   ]
  },
  {
   "cell_type": "code",
   "execution_count": 52,
   "id": "fdaa117c-f3b1-4e8d-ade2-fc50e5b9657d",
   "metadata": {},
   "outputs": [
    {
     "name": "stderr",
     "output_type": "stream",
     "text": [
      "<>:1: SyntaxWarning: \"is\" with a literal. Did you mean \"==\"?\n",
      "<>:1: SyntaxWarning: \"is\" with a literal. Did you mean \"==\"?\n",
      "C:\\Users\\Hahn\\AppData\\Local\\Temp\\ipykernel_29632\\2008605922.py:1: SyntaxWarning: \"is\" with a literal. Did you mean \"==\"?\n",
      "  88 is max(list_grades)\n"
     ]
    },
    {
     "data": {
      "text/plain": [
       "True"
      ]
     },
     "execution_count": 52,
     "metadata": {},
     "output_type": "execute_result"
    }
   ],
   "source": [
    "88 is max(list_grades)"
   ]
  },
  {
   "cell_type": "code",
   "execution_count": 53,
   "id": "36d56952-00fe-48c8-bc01-37578c98aac3",
   "metadata": {},
   "outputs": [
    {
     "name": "stderr",
     "output_type": "stream",
     "text": [
      "<>:1: SyntaxWarning: \"is not\" with a literal. Did you mean \"!=\"?\n",
      "<>:1: SyntaxWarning: \"is not\" with a literal. Did you mean \"!=\"?\n",
      "C:\\Users\\Hahn\\AppData\\Local\\Temp\\ipykernel_29632\\3530265652.py:1: SyntaxWarning: \"is not\" with a literal. Did you mean \"!=\"?\n",
      "  50 is not min(list_grades)\n"
     ]
    },
    {
     "data": {
      "text/plain": [
       "True"
      ]
     },
     "execution_count": 53,
     "metadata": {},
     "output_type": "execute_result"
    }
   ],
   "source": [
    "50 is not min(list_grades)"
   ]
  },
  {
   "cell_type": "code",
   "execution_count": 54,
   "id": "34b53793-7b80-4c9a-a391-3f30deda0f5e",
   "metadata": {},
   "outputs": [
    {
     "name": "stderr",
     "output_type": "stream",
     "text": [
      "<>:2: SyntaxWarning: \"is\" with a literal. Did you mean \"==\"?\n",
      "<>:2: SyntaxWarning: \"is\" with a literal. Did you mean \"==\"?\n",
      "C:\\Users\\Hahn\\AppData\\Local\\Temp\\ipykernel_29632\\1796373231.py:2: SyntaxWarning: \"is\" with a literal. Did you mean \"==\"?\n",
      "  12 is min(list_grades)\n"
     ]
    },
    {
     "data": {
      "text/plain": [
       "True"
      ]
     },
     "execution_count": 54,
     "metadata": {},
     "output_type": "execute_result"
    }
   ],
   "source": [
    "list_grades = [12, 57, 88]\n",
    "12 is min(list_grades)"
   ]
  },
  {
   "cell_type": "code",
   "execution_count": null,
   "id": "06eee6cb-5037-4830-8614-36430acfee07",
   "metadata": {},
   "outputs": [],
   "source": []
  }
 ],
 "metadata": {
  "kernelspec": {
   "display_name": "Python 3 (ipykernel)",
   "language": "python",
   "name": "python3"
  },
  "language_info": {
   "codemirror_mode": {
    "name": "ipython",
    "version": 3
   },
   "file_extension": ".py",
   "mimetype": "text/x-python",
   "name": "python",
   "nbconvert_exporter": "python",
   "pygments_lexer": "ipython3",
   "version": "3.11.7"
  }
 },
 "nbformat": 4,
 "nbformat_minor": 5
}
