{
 "cells": [
  {
   "cell_type": "markdown",
   "id": "b7ac4ca3-9e0e-4aee-9c98-6ee976c93c3d",
   "metadata": {},
   "source": [
    "# If elif and else\n",
    "- if statements allow you to execute code if a given condition is True.\n",
    "- if statements are booleans. They are always true or false\n",
    "- if the condition is true, the indented code will execute. If it is false, the indented code will be skipped"
   ]
  },
  {
   "cell_type": "code",
   "execution_count": 2,
   "id": "52632c5b-fbcb-4dd7-8f86-f27a08f0c80f",
   "metadata": {},
   "outputs": [],
   "source": [
    "student_grade=80\n",
    "\n",
    "if student_grade<50:\n",
    "    print(\"Stuent has failed the task\")"
   ]
  },
  {
   "cell_type": "markdown",
   "id": "14a59c78-0775-4223-992b-e942fe56f9de",
   "metadata": {},
   "source": [
    "- elif statements allow you to test for multiple conditions.\n",
    "- else statements allow you to execute code when none of your conditions are satifised.\n",
    "- else can be used with both if and elif conditions."
   ]
  },
  {
   "cell_type": "code",
   "execution_count": 5,
   "id": "039377e8-d046-4ded-b5dd-313c5e414fb6",
   "metadata": {},
   "outputs": [
    {
     "name": "stdout",
     "output_type": "stream",
     "text": [
      "Student has achieved a grade of Pass or higher\n"
     ]
    }
   ],
   "source": [
    "if student_grade<50:\n",
    "    print(\"Student has failed the task\")\n",
    "else:\n",
    "    print(\"Student has achieved a grade of Pass or higher\")"
   ]
  },
  {
   "cell_type": "code",
   "execution_count": 7,
   "id": "3a0455c0-4a9a-4af1-9c6f-e478dc092443",
   "metadata": {},
   "outputs": [
    {
     "name": "stdout",
     "output_type": "stream",
     "text": [
      "Student has failed the task\n"
     ]
    }
   ],
   "source": [
    "plagiarism = True\n",
    "\n",
    "if student_grade<50 or plagiarism == True:\n",
    "    print(\"Student has failed the task\")\n",
    "else:\n",
    "    print(\"Student has achieved a grade of Pass or higher\")"
   ]
  },
  {
   "cell_type": "code",
   "execution_count": 9,
   "id": "bd5a7363-3548-48d5-82f2-76c096add82a",
   "metadata": {},
   "outputs": [
    {
     "name": "stdout",
     "output_type": "stream",
     "text": [
      "Bob achieved a Fail\n"
     ]
    }
   ],
   "source": [
    "# Varible scope, if peformance_band is declared inside the if statements this veriable scope eists only within that block of code.\n",
    "performance_band = \"\"\n",
    "\n",
    "if student_grade<50 or plagiarism==True:\n",
    "    performance_band = \"Fail\"\n",
    "elif student_grade<65 and student_grade>=50:\n",
    "    performance_band = \"Pass\"\n",
    "elif student_grade<75 and student_grade>=65:\n",
    "    performance_band = \"Credit\"\n",
    "elif student_grade<85 and student_grade>=75:\n",
    "    performance_band = \"Distinction\"\n",
    "else:\n",
    "    performance_band = \"High Distinction\"\n",
    "print(\"Bob achieved a\", performance_band)"
   ]
  },
  {
   "cell_type": "markdown",
   "id": "c7d9cbaa-23cb-49a5-bc32-647c1558b909",
   "metadata": {},
   "source": [
    "# Repetition\n",
    "<hr>\n",
    "This section well cover for loops and while loops"
   ]
  },
  {
   "cell_type": "markdown",
   "id": "8b8b807a-9691-47f6-9d43-75fc3e204746",
   "metadata": {},
   "source": [
    "## for loops\n",
    "- for loops iterate over each element in a collection\n",
    "- for loops allow you to perform opterations on eah element in a colletion"
   ]
  },
  {
   "cell_type": "code",
   "execution_count": 20,
   "id": "268a385d-83fb-4938-8ccc-e8b8439eb2da",
   "metadata": {},
   "outputs": [
    {
     "name": "stdout",
     "output_type": "stream",
     "text": [
      "Asif,Azam\n",
      "Sara,Bently\n",
      "James,King\n",
      "Li,FiFi\n"
     ]
    }
   ],
   "source": [
    "# Students_names_grades is a dictionary.\n",
    "# Students name is the key, student score is the vale\n",
    "\n",
    "student_names_grades = {\"Asif,Azam\": 34, \"Sara,Bently\": 90.3, \"James,King\":53.5, \"Li,FiFi\": 77.9}\n",
    "\n",
    "for each_student in student_names_grades:\n",
    "    print(each_student)"
   ]
  },
  {
   "cell_type": "code",
   "execution_count": 18,
   "id": "8eb9d307-006d-49fd-ae86-fe4cf516115c",
   "metadata": {},
   "outputs": [
    {
     "name": "stdout",
     "output_type": "stream",
     "text": [
      "Asif Azam 34\n",
      "Sara Bently 90.3\n",
      "James King 53.5\n",
      "Li Fi Fi 77.9\n"
     ]
    }
   ],
   "source": [
    "# show key and value\n",
    "for each_student in student_names_grades:\n",
    "    grade = student_names_grades.get(each_student)\n",
    "    print(each_student, grade)"
   ]
  },
  {
   "cell_type": "code",
   "execution_count": 21,
   "id": "c934ab2e-b722-4cfe-934c-7a8b754e42e1",
   "metadata": {},
   "outputs": [
    {
     "name": "stdout",
     "output_type": "stream",
     "text": [
      "Azam Asif 34\n",
      "Bently Sara 90\n",
      "King James 54\n",
      "FiFi Li 78\n"
     ]
    }
   ],
   "source": [
    "# split on \",\" and grab firstname and surname\n",
    "for each_student in student_names_grades:\n",
    "    student_surname = each_student.split(\",\")[0]\n",
    "    student_first_name = each_student.split(\",\")[1]\n",
    "    grade = student_names_grades.get(each_student)\n",
    "    rounded_grade = round(grade)\n",
    "    print(student_first_name, student_surname, rounded_grade)"
   ]
  },
  {
   "cell_type": "markdown",
   "id": "fc57af46-e000-489f-95c5-2c1a8d40eb72",
   "metadata": {},
   "source": [
    "## for loops with if statements\n"
   ]
  },
  {
   "cell_type": "code",
   "execution_count": 22,
   "id": "c1705211-af4d-46f1-aed4-02c713dd0670",
   "metadata": {},
   "outputs": [
    {
     "name": "stdout",
     "output_type": "stream",
     "text": [
      "Azam Asif Distinction 34\n",
      "Bently Sara Distinction 90\n",
      "King James Distinction 54\n",
      "FiFi Li Distinction 78\n"
     ]
    }
   ],
   "source": [
    "for each_student in student_names_grades:\n",
    "    student_surname = each_student.split(\",\")[0]\n",
    "    student_first_name = each_student.split(\",\")[1]\n",
    "    grade = student_names_grades.get(each_student)\n",
    "    rounded_grade = round(grade)\n",
    "    performance_band = \"\"\n",
    "    if student_grade<50:\n",
    "        performance_band = \"Fail\"\n",
    "    elif student_grade<65 and student_grade>=50:\n",
    "        performance_band = \"Pass\"\n",
    "    elif student_grade<75 and student_grade>=65:\n",
    "        performance_band = \"Credit\"\n",
    "    elif student_grade<85 and student_grade>=75:\n",
    "        performance_band = \"Distinction\"\n",
    "    else:\n",
    "        performance_band = \"High Distinction\"\n",
    "    print(student_first_name,student_surname,performance_band, rounded_grade)"
   ]
  },
  {
   "cell_type": "code",
   "execution_count": 23,
   "id": "c8e21298-caeb-4fbf-8ee5-5675c9977ee8",
   "metadata": {},
   "outputs": [
    {
     "data": {
      "text/plain": [
       "['Sara,Bently']"
      ]
     },
     "execution_count": 23,
     "metadata": {},
     "output_type": "execute_result"
    }
   ],
   "source": [
    "# add items from a dictionary to a list\n",
    "# purpose is to add high achieves to a list.\n",
    "high_achievers = []\n",
    "student_names_grades = {\"Asif,Azam\": 34, \"Sara,Bently\": 90.3, \"James,King\":53.5, \"Li,FiFi\": 77.9}\n",
    "for each_student in student_names_grades:\n",
    "    if student_names_grades.get(each_student)>85:\n",
    "        high_achievers.append(each_student)\n",
    "high_achievers"
   ]
  },
  {
   "cell_type": "markdown",
   "id": "3b319765-6fd3-4fcc-be0c-35729f3e6845",
   "metadata": {},
   "source": [
    "# len(collection) - a very useful function!"
   ]
  },
  {
   "cell_type": "code",
   "execution_count": 28,
   "id": "a6897141-2714-4a7e-8820-cff7c741f411",
   "metadata": {},
   "outputs": [],
   "source": [
    "students_who_plagarised = [\"Wiley,Veronica\", \"Milton,Tahj\", \"Peng,Xi\",\"Gates,Steve\",\"Jobs,Bill\"]"
   ]
  },
  {
   "cell_type": "code",
   "execution_count": 29,
   "id": "c822c400-25b6-4eb0-9144-608b9b6dece7",
   "metadata": {},
   "outputs": [
    {
     "name": "stdout",
     "output_type": "stream",
     "text": [
      "Number of students who plagiarised:  5\n"
     ]
    }
   ],
   "source": [
    "print(\"Number of students who plagiarised: \", len(students_who_plagarised))"
   ]
  },
  {
   "cell_type": "markdown",
   "id": "e19ca5f6-d170-4af1-ba53-5cc44b769697",
   "metadata": {},
   "source": [
    "# While loops (and random number generator)\n",
    "- while loops allow you to perform one or operations for as ling as a xondirion is True"
   ]
  },
  {
   "cell_type": "code",
   "execution_count": 32,
   "id": "87e6b8d1-0f5e-4649-a4dc-f4c719c0aade",
   "metadata": {},
   "outputs": [
    {
     "data": {
      "text/plain": [
       "['Melanine', 'Melanine', 'Juan']"
      ]
     },
     "execution_count": 32,
     "metadata": {},
     "output_type": "execute_result"
    }
   ],
   "source": [
    "# Randomly select 3 students from list called students\n",
    "import random\n",
    "\n",
    "students = [\"Bob\", \"Jane\", \"Ahmed\", \"Felcicity\", \"Adiriam\", \"Xi\", \"Melanine\", \"Juan\"]\n",
    "\n",
    "student_group = []\n",
    "\n",
    "while len(student_group)<3:\n",
    "    student = random.randint(0, len(students)-1)\n",
    "    student_group.append(students[student])\n",
    "\n",
    "student_group"
   ]
  },
  {
   "cell_type": "code",
   "execution_count": 34,
   "id": "362d076a-a66f-4ddc-90e9-65409199eb4e",
   "metadata": {},
   "outputs": [
    {
     "data": {
      "text/plain": [
       "{'Adiriam', 'Melanine', 'Xi'}"
      ]
     },
     "execution_count": 34,
     "metadata": {},
     "output_type": "execute_result"
    }
   ],
   "source": [
    "# show no repeats, select 3 random students from the students list.\n",
    "import random\n",
    "\n",
    "students = [\"Bob\", \"Jane\", \"Ahmed\", \"Felcicity\", \"Adiriam\", \"Xi\", \"Melanine\", \"Juan\"]\n",
    "\n",
    "student_group_1 = set()\n",
    "\n",
    "while len(student_group_1)<3:\n",
    "    student = random.randint(0, len(students)-1)\n",
    "    student_group_1.add(students[student])\n",
    "\n",
    "student_group_1"
   ]
  },
  {
   "cell_type": "markdown",
   "id": "144f6b46-f237-4534-b1fb-5720cbd9d09a",
   "metadata": {},
   "source": [
    "# continue\n",
    "- The continue keyord allows you to skip performing operations on a specific elemtn in a collection\n",
    "- write a program to allocate all students from the students lit to 3 groups without duplicates"
   ]
  },
  {
   "cell_type": "code",
   "execution_count": 37,
   "id": "e04abc39-b9b2-484f-880e-614c87bb2689",
   "metadata": {},
   "outputs": [
    {
     "data": {
      "text/plain": [
       "{'Felcicity', 'Jane', 'Juan'}"
      ]
     },
     "execution_count": 37,
     "metadata": {},
     "output_type": "execute_result"
    }
   ],
   "source": [
    "student_group_2 = set()\n",
    "\n",
    "students = [\"Bob\", \"Jane\", \"Ahmed\", \"Felcicity\", \"Adiriam\", \"Xi\", \"Melanine\", \"Juan\"]\n",
    "while len(student_group_2)<3:\n",
    "    student = random.randint(0, len(students)-1)\n",
    "    if students[student] in student_group_1: # student already exists.\n",
    "        continue\n",
    "    student_group_2.add(students[student])\n",
    "student_group_2"
   ]
  },
  {
   "cell_type": "markdown",
   "id": "cc071bb4-cb36-4281-935d-0ccc3c2fd8e4",
   "metadata": {},
   "source": [
    "# break\n",
    "- break statements allow you to exit a for or while loop permaturely\n",
    "- break statements are useful in preventing endless loops"
   ]
  },
  {
   "cell_type": "code",
   "execution_count": 40,
   "id": "8e6de8b4-4052-45a8-a516-7f52d41759b3",
   "metadata": {},
   "outputs": [
    {
     "data": {
      "text/plain": [
       "{'Ahmed', 'Bob'}"
      ]
     },
     "execution_count": 40,
     "metadata": {},
     "output_type": "execute_result"
    }
   ],
   "source": [
    "# add 3 students to gorup 3\n",
    "student_group_3 = set()\n",
    "students = [\"Bob\", \"Jane\", \"Ahmed\", \"Felcicity\", \"Adiriam\", \"Xi\", \"Melanine\", \"Juan\"]\n",
    "\n",
    "while len(student_group_3)<3:\n",
    "    if len(student_group_1)+len(student_group_2)+len(student_group_3)==len(students):\n",
    "        break\n",
    "    student = random.randint(0, len(students)-1)\n",
    "    if students[student] in student_group_1 or students[student] in student_group_2:\n",
    "        continue\n",
    "    student_group_3.add(students[student])\n",
    "student_group_3"
   ]
  },
  {
   "cell_type": "code",
   "execution_count": null,
   "id": "bea9707c-5b6d-4a67-9742-e500be9315d8",
   "metadata": {},
   "outputs": [],
   "source": []
  }
 ],
 "metadata": {
  "kernelspec": {
   "display_name": "Python 3 (ipykernel)",
   "language": "python",
   "name": "python3"
  },
  "language_info": {
   "codemirror_mode": {
    "name": "ipython",
    "version": 3
   },
   "file_extension": ".py",
   "mimetype": "text/x-python",
   "name": "python",
   "nbconvert_exporter": "python",
   "pygments_lexer": "ipython3",
   "version": "3.11.7"
  }
 },
 "nbformat": 4,
 "nbformat_minor": 5
}
