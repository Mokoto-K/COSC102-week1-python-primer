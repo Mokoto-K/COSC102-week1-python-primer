{
 "cells": [
  {
   "cell_type": "markdown",
   "id": "0c37deb3-c895-4415-b927-5252524efbec",
   "metadata": {},
   "source": [
    "# Python Slicing: Strings and Lists"
   ]
  },
  {
   "cell_type": "code",
   "execution_count": 1,
   "id": "2eb686af-6bb4-4f15-b0e8-fcea620ff289",
   "metadata": {},
   "outputs": [],
   "source": [
    "student_name = \"Jobs,Bill\""
   ]
  },
  {
   "cell_type": "code",
   "execution_count": 2,
   "id": "7003649f-22b3-4a95-ac6f-2f4044398529",
   "metadata": {},
   "outputs": [],
   "source": [
    "students=[\"Wiley,Veronica\", \"Milton,Tahj\", \"Peng,Xi\",\"Gates,Steve\",\"Jobs,Bill\"]"
   ]
  },
  {
   "cell_type": "code",
   "execution_count": 3,
   "id": "58f1a768-59c7-4865-8666-a88b04b454e0",
   "metadata": {},
   "outputs": [
    {
     "data": {
      "text/plain": [
       "'Wiley,Veronica'"
      ]
     },
     "execution_count": 3,
     "metadata": {},
     "output_type": "execute_result"
    }
   ],
   "source": [
    "students[0]"
   ]
  },
  {
   "cell_type": "code",
   "execution_count": 4,
   "id": "44425f00-6f57-413c-9745-5555aead3851",
   "metadata": {},
   "outputs": [
    {
     "data": {
      "text/plain": [
       "'Jobs,Bill'"
      ]
     },
     "execution_count": 4,
     "metadata": {},
     "output_type": "execute_result"
    }
   ],
   "source": [
    "students[-1]"
   ]
  },
  {
   "cell_type": "code",
   "execution_count": 7,
   "id": "45381d29-30c2-48f6-ad4d-ab3b82895f9f",
   "metadata": {},
   "outputs": [],
   "source": [
    "students[-1]=\"Jobs,Bob\""
   ]
  },
  {
   "cell_type": "code",
   "execution_count": 8,
   "id": "6de79816-5c67-488d-b5d0-5e60737a3fa1",
   "metadata": {},
   "outputs": [
    {
     "data": {
      "text/plain": [
       "['Wiley,Veronica', 'Milton,Tahj', 'Peng,Xi', 'Gates,Steve', 'Jobs,Bob']"
      ]
     },
     "execution_count": 8,
     "metadata": {},
     "output_type": "execute_result"
    }
   ],
   "source": [
    "students"
   ]
  },
  {
   "cell_type": "code",
   "execution_count": 9,
   "id": "369f1b76-ba3a-45df-9171-0c315e6278b5",
   "metadata": {},
   "outputs": [],
   "source": [
    "del students[1]"
   ]
  },
  {
   "cell_type": "code",
   "execution_count": 10,
   "id": "3efcb829-918f-4433-b7dd-a4c018b2f287",
   "metadata": {},
   "outputs": [
    {
     "data": {
      "text/plain": [
       "['Wiley,Veronica', 'Peng,Xi', 'Gates,Steve', 'Jobs,Bob']"
      ]
     },
     "execution_count": 10,
     "metadata": {},
     "output_type": "execute_result"
    }
   ],
   "source": [
    "students"
   ]
  },
  {
   "cell_type": "code",
   "execution_count": 11,
   "id": "b467c5bf-32dc-475a-be72-d37ad756fb9c",
   "metadata": {},
   "outputs": [],
   "source": [
    "student_marks = [56,78,90,34,23,56,67,89]"
   ]
  },
  {
   "cell_type": "code",
   "execution_count": 12,
   "id": "ec0910d8-7528-40d2-be5a-3634be0e3d6f",
   "metadata": {},
   "outputs": [],
   "source": [
    "sorted_marks=sorted(student_marks)"
   ]
  },
  {
   "cell_type": "code",
   "execution_count": 13,
   "id": "9095605a-1d0d-43c4-89e8-f82eb1df2cb3",
   "metadata": {},
   "outputs": [
    {
     "data": {
      "text/plain": [
       "[23, 34, 56, 56, 67, 78, 89, 90]"
      ]
     },
     "execution_count": 13,
     "metadata": {},
     "output_type": "execute_result"
    }
   ],
   "source": [
    "sorted_marks"
   ]
  },
  {
   "cell_type": "markdown",
   "id": "681c908a-81d9-46b2-b9b6-1e39da360c71",
   "metadata": {},
   "source": [
    "first n elements"
   ]
  },
  {
   "cell_type": "code",
   "execution_count": 17,
   "id": "d42d644b-6839-4d32-9e1d-c9594aa0700e",
   "metadata": {},
   "outputs": [
    {
     "data": {
      "text/plain": [
       "[23, 34, 56]"
      ]
     },
     "execution_count": 17,
     "metadata": {},
     "output_type": "execute_result"
    }
   ],
   "source": [
    "sorted_marks[:3] # bottom 3 students"
   ]
  },
  {
   "cell_type": "markdown",
   "id": "1a8a4d7e-2735-4ac6-9860-5da3850678c6",
   "metadata": {},
   "source": [
    "last n elements"
   ]
  },
  {
   "cell_type": "code",
   "execution_count": 16,
   "id": "d856750a-741a-46b5-80f0-18ea047e155a",
   "metadata": {},
   "outputs": [
    {
     "data": {
      "text/plain": [
       "[78, 89, 90]"
      ]
     },
     "execution_count": 16,
     "metadata": {},
     "output_type": "execute_result"
    }
   ],
   "source": [
    "sorted_marks[-3:] # top 3 students"
   ]
  },
  {
   "cell_type": "markdown",
   "id": "5dd579ca-ad06-4369-8217-36347626587c",
   "metadata": {},
   "source": [
    "all but the last n elements"
   ]
  },
  {
   "cell_type": "code",
   "execution_count": 19,
   "id": "8fa21878-961c-464d-a93f-9ee315fabf49",
   "metadata": {},
   "outputs": [
    {
     "data": {
      "text/plain": [
       "[23, 34, 56, 56, 67]"
      ]
     },
     "execution_count": 19,
     "metadata": {},
     "output_type": "execute_result"
    }
   ],
   "source": [
    "sorted_marks[:-3] # excluding the top 3 students"
   ]
  },
  {
   "cell_type": "markdown",
   "id": "3a78a54b-3565-4f54-b669-ae4449da310b",
   "metadata": {},
   "source": [
    "All but the first n elements"
   ]
  },
  {
   "cell_type": "code",
   "execution_count": 18,
   "id": "adb96892-48c4-47aa-a410-f5a30072ce72",
   "metadata": {},
   "outputs": [
    {
     "data": {
      "text/plain": [
       "[56, 67, 78, 89, 90]"
      ]
     },
     "execution_count": 18,
     "metadata": {},
     "output_type": "execute_result"
    }
   ],
   "source": [
    "sorted_marks[3:] # excluding first 3 marks"
   ]
  },
  {
   "cell_type": "markdown",
   "id": "cd8be723-b9d1-4f56-9e97-c73565c4bcea",
   "metadata": {},
   "source": [
    "Every nth Element"
   ]
  },
  {
   "cell_type": "code",
   "execution_count": 20,
   "id": "44d65d2b-57c1-40e1-95ba-f4309186302e",
   "metadata": {},
   "outputs": [
    {
     "data": {
      "text/plain": [
       "[23, 56, 67, 89]"
      ]
     },
     "execution_count": 20,
     "metadata": {},
     "output_type": "execute_result"
    }
   ],
   "source": [
    "sorted_marks[::2] # get every second mark, even"
   ]
  },
  {
   "cell_type": "code",
   "execution_count": 21,
   "id": "bb4b9f47-231a-4aa9-81b1-1a89b455fb2e",
   "metadata": {},
   "outputs": [
    {
     "data": {
      "text/plain": [
       "[34, 56, 78, 90]"
      ]
     },
     "execution_count": 21,
     "metadata": {},
     "output_type": "execute_result"
    }
   ],
   "source": [
    "sorted_marks[1::2] # get every second mark, odd"
   ]
  },
  {
   "cell_type": "markdown",
   "id": "826b41bb-24ea-4da6-8067-64406f11952e",
   "metadata": {},
   "source": [
    "Reversing a list "
   ]
  },
  {
   "cell_type": "code",
   "execution_count": 24,
   "id": "02d95e68-2968-4db7-8ba9-b4a42acfd006",
   "metadata": {},
   "outputs": [
    {
     "data": {
      "text/plain": [
       "[90, 89, 78, 67, 56, 56, 34, 23]"
      ]
     },
     "execution_count": 24,
     "metadata": {},
     "output_type": "execute_result"
    }
   ],
   "source": [
    "sorted_marks[::-1] # reversing a list"
   ]
  },
  {
   "cell_type": "code",
   "execution_count": 25,
   "id": "496e1eec-90f3-48fe-910e-9c0cc7736d40",
   "metadata": {},
   "outputs": [],
   "source": [
    "fruit = \"bananana\""
   ]
  },
  {
   "cell_type": "code",
   "execution_count": 26,
   "id": "da7bfb1f-0a47-4617-94a0-d130d8fef3ab",
   "metadata": {},
   "outputs": [
    {
     "data": {
      "text/plain": [
       "'anananab'"
      ]
     },
     "execution_count": 26,
     "metadata": {},
     "output_type": "execute_result"
    }
   ],
   "source": [
    "fruit[::-1]"
   ]
  },
  {
   "cell_type": "markdown",
   "id": "aa9dc99f-2c49-408c-883b-6100b66de22f",
   "metadata": {},
   "source": [
    "Making a copy of a list using slicing"
   ]
  },
  {
   "cell_type": "code",
   "execution_count": 27,
   "id": "51813927-48de-4dc0-a343-5da9fdeb0926",
   "metadata": {},
   "outputs": [
    {
     "data": {
      "text/plain": [
       "[23, 34, 56, 56, 67, 78, 89, 90]"
      ]
     },
     "execution_count": 27,
     "metadata": {},
     "output_type": "execute_result"
    }
   ],
   "source": [
    "copy_marks=sorted_marks[:] #duplicate the list\n",
    "copy_marks"
   ]
  },
  {
   "cell_type": "code",
   "execution_count": 30,
   "id": "9ef77ae5-a1da-41eb-a991-4459fdf46bc8",
   "metadata": {},
   "outputs": [],
   "source": [
    "students1=[\"Peng,Xi\",\"Gates,Steve\",\"Jobs,Bill\"]\n",
    "students2=[\"Wiley,Veronica\", \"Milton,Tahj\", ]"
   ]
  },
  {
   "cell_type": "code",
   "execution_count": 32,
   "id": "3d71ae78-2b07-4560-abfb-13317ca2bbb2",
   "metadata": {},
   "outputs": [
    {
     "data": {
      "text/plain": [
       "['Wiley,Veronica',\n",
       " 'Milton,Tahj',\n",
       " 'Wiley,Veronica',\n",
       " 'Milton,Tahj',\n",
       " 'Peng,Xi',\n",
       " 'Gates,Steve',\n",
       " 'Jobs,Bill']"
      ]
     },
     "execution_count": 32,
     "metadata": {},
     "output_type": "execute_result"
    }
   ],
   "source": [
    "# Pretend there is an invisible index position just after 0, and put the second list in that position\n",
    "students1[0:0]=students2\n",
    "students1"
   ]
  },
  {
   "cell_type": "markdown",
   "id": "8e75166f-f3f0-4d70-ba03-59a130ff1185",
   "metadata": {},
   "source": [
    "write a program to generate student usernames"
   ]
  },
  {
   "cell_type": "code",
   "execution_count": 33,
   "id": "5a1954e2-43fa-4ddc-992d-57e47e689bf4",
   "metadata": {},
   "outputs": [],
   "source": [
    "student_names_DOB = {\"Peng,Xi\":1997, \"Gates,Steve\":1986, \"Jobs,Bill\":1988, \"Wiley,Veronica\":2001, \"Milton,Tahj\":1999}"
   ]
  },
  {
   "cell_type": "code",
   "execution_count": 38,
   "id": "97fb7340-4b96-4474-8d0f-b972dfe9ab7c",
   "metadata": {},
   "outputs": [
    {
     "name": "stdout",
     "output_type": "stream",
     "text": [
      "Pen97\n",
      "Gat86\n",
      "Job88\n",
      "Wil01\n",
      "Mil99\n"
     ]
    }
   ],
   "source": [
    "for each_student in student_names_DOB:\n",
    "    letters = each_student[:3]\n",
    "    year = student_names_DOB[each_student]\n",
    "    numbers = str(year)[-2:]\n",
    "    username = letters+numbers\n",
    "    print(username)\n",
    "    "
   ]
  },
  {
   "cell_type": "code",
   "execution_count": 41,
   "id": "9ef3a3bd-9960-4bc9-ac94-a9c0bc7d8a7e",
   "metadata": {},
   "outputs": [
    {
     "data": {
      "text/plain": [
       "['Pen97', 'Gat86', 'Job88', 'Wil01', 'Mil99']"
      ]
     },
     "execution_count": 41,
     "metadata": {},
     "output_type": "execute_result"
    }
   ],
   "source": [
    "generate_names = [each_student[:3]+str(student_names_DOB[each_student])[-2:] for each_student in student_names_DOB]\n",
    "generate_names # Do it in a single line"
   ]
  },
  {
   "cell_type": "code",
   "execution_count": 42,
   "id": "d7548354-da40-45be-a991-dc0065b9bf72",
   "metadata": {},
   "outputs": [],
   "source": [
    "list_of_grade_types = [\"Fail\", \"Pass\", \"Credit\", \"Distinction\", \"High Distinction\"]"
   ]
  },
  {
   "cell_type": "markdown",
   "id": "0a30cb86-ee76-4f11-bb0e-7a607edba16a",
   "metadata": {},
   "source": [
    "Write a program to geerate acronyms for each of the above grade descriptions"
   ]
  },
  {
   "cell_type": "code",
   "execution_count": 43,
   "id": "e25bd909-8f75-4840-8cb1-2314226d9936",
   "metadata": {},
   "outputs": [
    {
     "data": {
      "text/plain": [
       "['F', 'P', 'C', 'D', 'HD']"
      ]
     },
     "execution_count": 43,
     "metadata": {},
     "output_type": "execute_result"
    }
   ],
   "source": [
    "acronyms = []\n",
    "\n",
    "for grade in list_of_grade_types:\n",
    "    split_word=grade.split(\" \")\n",
    "    acronym=\"\"\n",
    "    for each_word in split_word:\n",
    "        acronym+=each_word[:1]\n",
    "    acronyms.append(acronym)\n",
    "acronyms"
   ]
  },
  {
   "cell_type": "code",
   "execution_count": 49,
   "id": "c1922f69-e843-4e96-91bb-a333443b5ea7",
   "metadata": {},
   "outputs": [
    {
     "name": "stdout",
     "output_type": "stream",
     "text": [
      "bob is a palindrome!\n",
      "madam is a palindrome!\n",
      "mum is a palindrome!\n",
      "poop is a palindrome!\n"
     ]
    }
   ],
   "source": [
    "# Palindrome checker\n",
    "words = [\"bob\", \"Millie\", \"madam\", \"mum\", \"poop\"]\n",
    "\n",
    "for each_word in words:\n",
    "    if each_word[::1]==each_word[::-1]:\n",
    "        print(\"{} is a palindrome!\".format(each_word))\n",
    "    "
   ]
  },
  {
   "cell_type": "markdown",
   "id": "cf18f414-e40b-41bf-951b-47943ae9931b",
   "metadata": {},
   "source": [
    "# Zip"
   ]
  },
  {
   "cell_type": "code",
   "execution_count": 53,
   "id": "3c2c533c-5ca1-4125-8b21-54990181a86a",
   "metadata": {},
   "outputs": [
    {
     "name": "stdout",
     "output_type": "stream",
     "text": [
      "Student: Bob jones | Grade: 56\n",
      "Student: Jane Smith | Grade: 87\n",
      "Student: Lil Dwanye | Grade: 99\n",
      "Student: Ahmed Karim | Grade: 5\n"
     ]
    }
   ],
   "source": [
    "students = [\"Bob jones\", \"Jane Smith\", \"Lil Dwanye\", \"Ahmed Karim\"]\n",
    "grades = [56,87,99,5]\n",
    "\n",
    "for student, grade in zip(students, grades):\n",
    "    print(f\"Student: {student} | Grade: {grade}\")"
   ]
  },
  {
   "cell_type": "markdown",
   "id": "7e583072-2242-49e4-b3fe-c08b94ee7e27",
   "metadata": {},
   "source": [
    "# enumerate"
   ]
  },
  {
   "cell_type": "code",
   "execution_count": 56,
   "id": "702e50dc-026f-4fac-a09b-3c2e2b3dcd3b",
   "metadata": {},
   "outputs": [
    {
     "data": {
      "text/plain": [
       "{'Lil Dwanye': 99, 'Jane Smith': 87, 'Bob jones': 56, 'Ahmed Karim': 5}"
      ]
     },
     "execution_count": 56,
     "metadata": {},
     "output_type": "execute_result"
    }
   ],
   "source": [
    "students_names_only = [\"Bob jones\", \"Jane Smith\", \"Lil Dwanye\", \"Ahmed Karim\"]\n",
    "grades = [56,87,99,5]\n",
    "students_to_grades = dict()\n",
    "\n",
    "# Later we'll write a function def ge_student_ranking()\n",
    "while len(grades)>0:\n",
    "    for i, grade in enumerate(grades):\n",
    "        if grade is max(grades):\n",
    "            student_name = students_names_only[i]\n",
    "            student_dict = {student_name: grade}\n",
    "            students_to_grades.update(student_dict)\n",
    "            del students_names_only[i]\n",
    "            del grades[i]\n",
    "students_to_grades"
   ]
  },
  {
   "cell_type": "code",
   "execution_count": 57,
   "id": "895df29f-be5b-48fe-8527-8d09ee244e23",
   "metadata": {},
   "outputs": [
    {
     "data": {
      "text/plain": [
       "[2, 4, 6, 8, 10, 12, 14, 16, 18, 20]"
      ]
     },
     "execution_count": 57,
     "metadata": {},
     "output_type": "execute_result"
    }
   ],
   "source": [
    "list_values = [1,2,3,4,5,6,7,8,9,10]\n",
    "double_values = [2*a for a in list_values]\n",
    "double_values"
   ]
  },
  {
   "cell_type": "code",
   "execution_count": 60,
   "id": "fc8f51b1-a37b-473a-8168-bca87cefdebb",
   "metadata": {},
   "outputs": [
    {
     "data": {
      "text/plain": [
       "[61, 92, 99, 10]"
      ]
     },
     "execution_count": 60,
     "metadata": {},
     "output_type": "execute_result"
    }
   ],
   "source": [
    "students_names_only = [\"Bob jones\", \"Jane Smith\", \"Lil Dwanye\", \"Ahmed Karim\"]\n",
    "grades = [56, 87, 99, 5]\n",
    "\n",
    "new_grades = [grade+5 if grade<95 else grade for grade in grades]\n",
    "new_grades"
   ]
  },
  {
   "cell_type": "code",
   "execution_count": null,
   "id": "429c1a93-9bd7-47b4-a450-1b3ffbdd6340",
   "metadata": {},
   "outputs": [],
   "source": []
  }
 ],
 "metadata": {
  "kernelspec": {
   "display_name": "Python 3 (ipykernel)",
   "language": "python",
   "name": "python3"
  },
  "language_info": {
   "codemirror_mode": {
    "name": "ipython",
    "version": 3
   },
   "file_extension": ".py",
   "mimetype": "text/x-python",
   "name": "python",
   "nbconvert_exporter": "python",
   "pygments_lexer": "ipython3",
   "version": "3.11.7"
  }
 },
 "nbformat": 4,
 "nbformat_minor": 5
}
