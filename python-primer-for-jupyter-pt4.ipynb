{
 "cells": [
  {
   "cell_type": "markdown",
   "id": "c713b4a8-8435-43ad-a6ac-74fab355f750",
   "metadata": {},
   "source": [
    "# What is a function?\n",
    "\n",
    "-  function is a chunk of code that (Usually) takes input, performs operations, then usually returns an output"
   ]
  },
  {
   "cell_type": "code",
   "execution_count": 1,
   "id": "e92f023a-72e6-4425-83dc-a2750e8b6a88",
   "metadata": {},
   "outputs": [
    {
     "data": {
      "text/plain": [
       "6"
      ]
     },
     "execution_count": 1,
     "metadata": {},
     "output_type": "execute_result"
    }
   ],
   "source": [
    "input = 5.8\n",
    "output= round(input)\n",
    "output"
   ]
  },
  {
   "cell_type": "code",
   "execution_count": 2,
   "id": "3fb5b125-49f4-4bf8-8ea5-a0772ae72254",
   "metadata": {},
   "outputs": [],
   "source": [
    "def multiply(num1,num2):\n",
    "    product = num1*num2\n",
    "    return product"
   ]
  },
  {
   "cell_type": "code",
   "execution_count": 3,
   "id": "f8fe7975-133d-4791-b82f-08a0821ada86",
   "metadata": {},
   "outputs": [
    {
     "data": {
      "text/plain": [
       "15"
      ]
     },
     "execution_count": 3,
     "metadata": {},
     "output_type": "execute_result"
    }
   ],
   "source": [
    "result = multiply(3,5)\n",
    "result"
   ]
  },
  {
   "cell_type": "markdown",
   "id": "eaaf1888-7426-4efa-bc59-0f25cc0d16e6",
   "metadata": {},
   "source": [
    "# Built-in python Functions\n",
    "- Python comes packaged with a lot of useful inbuilt functions\n",
    "- We've used a lot of nbuilt python functions already we.p print(), round(), append(), max(), min(), etc\n",
    "- There are also alot of python modules you can import. These contain very useful functions\n",
    "- For example when you impot od you have access to a large range of functions which allows you to manipulate directory paths"
   ]
  },
  {
   "cell_type": "code",
   "execution_count": 4,
   "id": "238f4cec-9c8f-415f-91a3-f14400b426a0",
   "metadata": {},
   "outputs": [
    {
     "name": "stdout",
     "output_type": "stream",
     "text": [
      ".anaconda\n",
      ".bash_history\n",
      ".conda\n",
      ".condarc\n",
      ".continuum\n",
      ".gitconfig\n",
      ".idlerc\n",
      ".ipynb_checkpoints\n",
      ".ipython\n",
      ".jupyter\n",
      ".lesshst\n",
      ".matplotlib\n",
      ".spyder-py3\n",
      ".viminfo\n",
      ".virtual_documents\n",
      ".vscode\n",
      "anaconda3\n",
      "AppData\n",
      "Application Data\n",
      "Contacts\n",
      "Cookies\n",
      "Desktop\n",
      "Documents\n",
      "Downloads\n",
      "Favorites\n",
      "IntelGraphicsProfiles\n",
      "Links\n",
      "Local Settings\n",
      "Music\n",
      "My Documents\n",
      "NetHood\n",
      "NTUSER.DAT\n",
      "ntuser.dat.LOG1\n",
      "ntuser.dat.LOG2\n",
      "NTUSER.DAT{1c2b59c6-c5f5-11eb-bacb-000d3a96488e}.TM.blf\n",
      "NTUSER.DAT{1c2b59c6-c5f5-11eb-bacb-000d3a96488e}.TMContainer00000000000000000001.regtrans-ms\n",
      "NTUSER.DAT{1c2b59c6-c5f5-11eb-bacb-000d3a96488e}.TMContainer00000000000000000002.regtrans-ms\n",
      "ntuser.ini\n",
      "OneDrive\n",
      "Pictures\n",
      "PrintHood\n",
      "python-primer-for-jupyter-pt2.ipynb\n",
      "python-primer-for-jupyter-pt3.ipynb\n",
      "python-primer-for-jupyter-pt4.ipynb\n",
      "python-primer-for-jupyter.ipynb\n",
      "Recent\n",
      "Roaming\n",
      "Saved Games\n",
      "Searches\n",
      "SendTo\n",
      "Start Menu\n",
      "Templates\n",
      "Untitled.ipynb\n",
      "Videos\n"
     ]
    }
   ],
   "source": [
    "import os\n",
    "\n",
    "directory = \"./\"\n",
    "\n",
    "for each_item in os.listdir(directory):\n",
    "    print(each_item)"
   ]
  },
  {
   "cell_type": "markdown",
   "id": "d1f3e675-ecbb-4789-87c9-26ee8b818732",
   "metadata": {},
   "source": [
    "# User-defined functions"
   ]
  },
  {
   "cell_type": "code",
   "execution_count": 5,
   "id": "e86697fb-5950-44e1-b613-c7b5c022ef5a",
   "metadata": {},
   "outputs": [
    {
     "data": {
      "text/plain": [
       "90.3"
      ]
     },
     "execution_count": 5,
     "metadata": {},
     "output_type": "execute_result"
    }
   ],
   "source": [
    "student_names_grades = {\"Asif,Azam\": 34, \"Sara,Bently\": 90.3, \"James,King\":53.5, \"Li,FiFi\": 77.9}\n",
    "\n",
    "def get_grade(dict_students, name):\n",
    "    grade = dict_students[name]\n",
    "    return grade\n",
    "\n",
    "get_grade(student_names_grades, \"Sara,Bently\")"
   ]
  },
  {
   "cell_type": "code",
   "execution_count": 6,
   "id": "260317a5-9305-4e05-ad1c-650bd3f9af93",
   "metadata": {},
   "outputs": [
    {
     "data": {
      "text/plain": [
       "'High Distinction'"
      ]
     },
     "execution_count": 6,
     "metadata": {},
     "output_type": "execute_result"
    }
   ],
   "source": [
    "## Cycle Through the values, chekingg if grade is less than the value. return the key if true.\n",
    "\n",
    "student_names_grades = {\"Asif,Azam\": 34, \"Sara,Bently\": 90.3, \"James,King\":53.5, \"Li,FiFi\": 77.9}\n",
    "performance_bands={\"Fail\": 50, \"Pass\":65, \"Credit\":75, \"Distinction\": 85, \"High Distinction\":100}\n",
    "\n",
    "def get_performance_band(student_names_grades, performance_bands, name):\n",
    "    grade = student_names_grades[name]\n",
    "    for each_band in performance_bands:\n",
    "        if grade < performance_bands[each_band]:\n",
    "            return each_band\n",
    "\n",
    "get_performance_band(student_names_grades,performance_bands, \"Sara,Bently\")"
   ]
  },
  {
   "cell_type": "code",
   "execution_count": 8,
   "id": "7b12e9b9-4c26-4207-9997-437998290031",
   "metadata": {},
   "outputs": [
    {
     "data": {
      "text/plain": [
       "'High Distinction'"
      ]
     },
     "execution_count": 8,
     "metadata": {},
     "output_type": "execute_result"
    }
   ],
   "source": [
    "# More efficent. You onl get the value once you have the right key\n",
    "\n",
    "student_names_grades = {\"Asif,Azam\": 34, \"Sara,Bently\": 90.3, \"James,King\":53.5, \"Li,FiFi\": 77.9}\n",
    "performance_bands={\"Fail\": 50, \"Pass\":65, \"Credit\":75, \"Distinction\": 85, \"High Distinction\":100}\n",
    "\n",
    "def get_grade(student_names_grades, performance_bands, name):\n",
    "    grade = student_names_grades[name]\n",
    "    for each_band in performance_bands:\n",
    "        if grade < each_band:\n",
    "            return performance_bands[each_band]\n",
    "\n",
    "get_performance_band(student_names_grades,performance_bands, \"Sara,Bently\")"
   ]
  },
  {
   "cell_type": "code",
   "execution_count": 16,
   "id": "355a5cc1-e3d2-4dae-8790-e8e6fe3c1b43",
   "metadata": {},
   "outputs": [
    {
     "data": {
      "text/plain": [
       "{'Asif,Azam': 'Fail',\n",
       " 'Sara,Bently': 'High Distinction',\n",
       " 'James,King': 'Pass',\n",
       " 'Li,FiFi': 'Distinction'}"
      ]
     },
     "execution_count": 16,
     "metadata": {},
     "output_type": "execute_result"
    }
   ],
   "source": [
    "student_names_grades = {\"Asif,Azam\": 34, \"Sara,Bently\": 90.3, \"James,King\":53.5, \"Li,FiFi\": 77.9}\n",
    "performance_bands={50: \"Fail\", 65: \"Pass\",75:  \"Credit\", 85: \"Distinction\", 100:\"High Distinction\"}\n",
    "\n",
    "def show_grades(student_names_grades, performance_bands):\n",
    "    student_performance_bands={}\n",
    "    for student in student_names_grades:\n",
    "        grade = student_names_grades[student]\n",
    "        for each_band in performance_bands:\n",
    "            if grade < each_band:\n",
    "                performance_band=performance_bands[each_band]\n",
    "                student_performance_bands.update({student:performance_band})\n",
    "                break # Returns control to the outer for loop\n",
    "                \n",
    "    return student_performance_bands\n",
    "\n",
    "show_grades(student_names_grades, performance_bands)"
   ]
  },
  {
   "cell_type": "markdown",
   "id": "49b7fb41-4231-413d-94a3-7596a4c522aa",
   "metadata": {},
   "source": [
    "# Create a Program!\n",
    "<hr>\n",
    "# Write a program to generate a students final grade based on:\n",
    "- 2 assignments, each is worth 30% of the final grade\n",
    "- 1 exam, worth 40% of the final grade\n",
    "- Output a message to showingL\n",
    "  - Finale Grade\n",
    "  - Performance band\n",
    "\n",
    "## Program variables"
   ]
  },
  {
   "cell_type": "code",
   "execution_count": 18,
   "id": "e6d74563-6f56-4d88-a7b9-d0dca35c58f0",
   "metadata": {},
   "outputs": [],
   "source": [
    "name = \"Asif Azam\"\n",
    "assignment1 = 10\n",
    "assignment2 = 30\n",
    "exam = 100\n",
    "\n",
    "weight_mapping = {\"assignment1\":0.3, \"assignment2\":0.3, \"exam\":0.4}\n",
    "performance_bands={50:\"Fail\",65:\"Pass\",75:\"Credit\",85:\"Distinction\",100.001:\"High Distinction\"}\n"
   ]
  },
  {
   "cell_type": "markdown",
   "id": "3b5efb4a-abd2-47d3-9c92-708c8b8c7a20",
   "metadata": {},
   "source": [
    "## Program function"
   ]
  },
  {
   "cell_type": "code",
   "execution_count": 19,
   "id": "85fb7292-419e-40bb-ac33-193d0c8afe96",
   "metadata": {},
   "outputs": [],
   "source": [
    "def moderate_grade(raw_grade, task, weight_mapping):\n",
    "    weighting = weight_mapping[task] #0.3\n",
    "    moderated_grade = weighting*raw_grade #0.3*80\n",
    "    return moderated_grade"
   ]
  },
  {
   "cell_type": "code",
   "execution_count": 20,
   "id": "df7f4cea-6fd9-419c-99a5-c4f23201898a",
   "metadata": {},
   "outputs": [],
   "source": [
    "def get_final_grade(grade_1, grade_2, grade_3): #sum the moderated marks\n",
    "    final_grade = grade_1+grade_2+grade_3\n",
    "    return final_grade"
   ]
  },
  {
   "cell_type": "code",
   "execution_count": 21,
   "id": "cc09cf69-a3f1-4240-b824-10938a029514",
   "metadata": {},
   "outputs": [],
   "source": [
    "def get_performance_band(final_grade, performance_bands):\n",
    "    for each_band in performance_bands:\n",
    "        if final_grade < each_band:\n",
    "            return performance_bands[each_band]"
   ]
  },
  {
   "cell_type": "code",
   "execution_count": 22,
   "id": "76ebf1c5-4a3b-4e0f-87e4-6d69bb1d4902",
   "metadata": {},
   "outputs": [],
   "source": [
    "def generate_output(name, final_grade, performance_band):\n",
    "    output = \"{}'s final grade for this unit was: {}%. They achieved a performance band of {}.\".format(name,final_grade,performance_band)\n",
    "    return output"
   ]
  },
  {
   "cell_type": "markdown",
   "id": "c291ca04-9e7f-4369-aa25-80563144befa",
   "metadata": {},
   "source": [
    "## Bringing it all together!"
   ]
  },
  {
   "cell_type": "code",
   "execution_count": 25,
   "id": "e46344d2-694f-44d8-ab82-3249f92f8b9e",
   "metadata": {},
   "outputs": [
    {
     "data": {
      "text/plain": [
       "\"Asif Azam's final grade for this unit was: 52.0%. They achieved a performance band of Pass.\""
      ]
     },
     "execution_count": 25,
     "metadata": {},
     "output_type": "execute_result"
    }
   ],
   "source": [
    "moderated_assignment_1 = moderate_grade(assignment1, \"assignment1\", weight_mapping)\n",
    "moderated_assignment_2 = moderate_grade(assignment2, \"assignment2\", weight_mapping)\n",
    "moderated_exam = moderate_grade(exam, \"exam\", weight_mapping)\n",
    "\n",
    "final_grade = get_final_grade(moderated_assignment_1, moderated_assignment_2, moderated_exam)\n",
    "\n",
    "performance_band = get_performance_band(final_grade, performance_bands)\n",
    "\n",
    "generate_output(name, final_grade, performance_band)"
   ]
  },
  {
   "cell_type": "markdown",
   "id": "1b894deb-7926-4267-a022-03125e99bd7c",
   "metadata": {},
   "source": [
    "# Write a program to generate a students final grade based on:\n",
    "- 2 assignments, each is worth 30% of the final grade\n",
    "- 1 exam, worth 40% of the final grade\n",
    "- Output a message to each student in a cohort of 10 students, showing:\n",
    "  - Finale Grade\n",
    "  - Performance band"
   ]
  },
  {
   "cell_type": "code",
   "execution_count": 27,
   "id": "55948227-01d0-4e6f-9009-42e9d4821dcf",
   "metadata": {},
   "outputs": [
    {
     "data": {
      "text/plain": [
       "\"['A', 'B', 'C', 'D', 'E']'s final grade for this unit was: 52.0%. They achieved a performance band of Pass.\""
      ]
     },
     "execution_count": 27,
     "metadata": {},
     "output_type": "execute_result"
    }
   ],
   "source": [
    "# This cell is not finished\n",
    "\n",
    "name = [\"A\", \"B\", \"C\", \"D\", \"E\"]\n",
    "assignment1 = [10, 46, 32, 79, 45]\n",
    "assignment2 = [30, 56, 67, 78, 34]\n",
    "exam = [100, 78, 35, 89, 23]\n",
    "\n",
    "\n",
    "final_grade = get_final_grade(moderated_assignment_1, moderated_assignment_2, moderated_exam)\n",
    "\n",
    "performance_band = get_performance_band(final_grade, performance_bands)\n",
    "\n",
    "generate_output(name, final_grade, performance_band)"
   ]
  },
  {
   "cell_type": "code",
   "execution_count": null,
   "id": "27fec022-574a-4117-b065-098766082316",
   "metadata": {},
   "outputs": [],
   "source": []
  }
 ],
 "metadata": {
  "kernelspec": {
   "display_name": "Python 3 (ipykernel)",
   "language": "python",
   "name": "python3"
  },
  "language_info": {
   "codemirror_mode": {
    "name": "ipython",
    "version": 3
   },
   "file_extension": ".py",
   "mimetype": "text/x-python",
   "name": "python",
   "nbconvert_exporter": "python",
   "pygments_lexer": "ipython3",
   "version": "3.11.7"
  }
 },
 "nbformat": 4,
 "nbformat_minor": 5
}
